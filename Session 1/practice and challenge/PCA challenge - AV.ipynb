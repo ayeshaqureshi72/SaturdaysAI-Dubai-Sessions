{
 "cells": [
  {
   "cell_type": "markdown",
   "metadata": {
    "colab_type": "text",
    "id": "AmcY392fd-wh"
   },
   "source": [
    "## PCA challenge ;)"
   ]
  },
  {
   "cell_type": "code",
   "execution_count": 143,
   "metadata": {
    "colab": {},
    "colab_type": "code",
    "id": "NcDILEPl73Th"
   },
   "outputs": [],
   "source": [
    "import numpy as np\n",
    "import pandas as pd\n",
    "from sklearn.preprocessing import StandardScaler\n",
    "from sklearn.decomposition import PCA\n",
    "import seaborn as sns\n",
    "import matplotlib.pyplot as plt\n",
    "%matplotlib inline"
   ]
  },
  {
   "cell_type": "markdown",
   "metadata": {
    "colab_type": "text",
    "id": "jtIG7z0KKCxj"
   },
   "source": [
    "# Dataset preparation"
   ]
  },
  {
   "cell_type": "markdown",
   "metadata": {
    "colab_type": "text",
    "id": "B01BjK3PJj26"
   },
   "source": [
    "Loading and analyzing the iris flowers dataset."
   ]
  },
  {
   "cell_type": "code",
   "execution_count": 144,
   "metadata": {
    "colab": {
     "base_uri": "https://localhost:8080/",
     "height": 381
    },
    "colab_type": "code",
    "id": "nf2O49DXI-TT",
    "outputId": "2fc12251-252b-4a96-8b4e-7e7a77b48c1f"
   },
   "outputs": [
    {
     "data": {
      "text/html": [
       "<div>\n",
       "<style scoped>\n",
       "    .dataframe tbody tr th:only-of-type {\n",
       "        vertical-align: middle;\n",
       "    }\n",
       "\n",
       "    .dataframe tbody tr th {\n",
       "        vertical-align: top;\n",
       "    }\n",
       "\n",
       "    .dataframe thead th {\n",
       "        text-align: right;\n",
       "    }\n",
       "</style>\n",
       "<table border=\"1\" class=\"dataframe\">\n",
       "  <thead>\n",
       "    <tr style=\"text-align: right;\">\n",
       "      <th></th>\n",
       "      <th>Feature00001</th>\n",
       "      <th>Feature00002</th>\n",
       "      <th>Feature00003</th>\n",
       "      <th>Feature00004</th>\n",
       "      <th>Feature00005</th>\n",
       "      <th>Feature00006</th>\n",
       "      <th>Feature00007</th>\n",
       "      <th>Feature00008</th>\n",
       "      <th>Feature00009</th>\n",
       "      <th>Feature00010</th>\n",
       "      <th>...</th>\n",
       "      <th>Feature24681</th>\n",
       "      <th>Feature24682</th>\n",
       "      <th>Feature24683</th>\n",
       "      <th>Feature24684</th>\n",
       "      <th>Feature24685</th>\n",
       "      <th>Feature24686</th>\n",
       "      <th>Feature24687</th>\n",
       "      <th>Feature24688</th>\n",
       "      <th>Feature24689</th>\n",
       "      <th>Feature24690</th>\n",
       "    </tr>\n",
       "    <tr>\n",
       "      <th>id</th>\n",
       "      <th></th>\n",
       "      <th></th>\n",
       "      <th></th>\n",
       "      <th></th>\n",
       "      <th></th>\n",
       "      <th></th>\n",
       "      <th></th>\n",
       "      <th></th>\n",
       "      <th></th>\n",
       "      <th></th>\n",
       "      <th></th>\n",
       "      <th></th>\n",
       "      <th></th>\n",
       "      <th></th>\n",
       "      <th></th>\n",
       "      <th></th>\n",
       "      <th></th>\n",
       "      <th></th>\n",
       "      <th></th>\n",
       "      <th></th>\n",
       "      <th></th>\n",
       "    </tr>\n",
       "  </thead>\n",
       "  <tbody>\n",
       "    <tr>\n",
       "      <th>Observation1</th>\n",
       "      <td>2</td>\n",
       "      <td>4</td>\n",
       "      <td>0</td>\n",
       "      <td>0</td>\n",
       "      <td>19</td>\n",
       "      <td>7</td>\n",
       "      <td>0</td>\n",
       "      <td>4</td>\n",
       "      <td>7</td>\n",
       "      <td>86</td>\n",
       "      <td>...</td>\n",
       "      <td>0</td>\n",
       "      <td>0</td>\n",
       "      <td>0</td>\n",
       "      <td>0</td>\n",
       "      <td>0</td>\n",
       "      <td>0</td>\n",
       "      <td>4</td>\n",
       "      <td>134</td>\n",
       "      <td>0</td>\n",
       "      <td>0</td>\n",
       "    </tr>\n",
       "    <tr>\n",
       "      <th>Observation2</th>\n",
       "      <td>4</td>\n",
       "      <td>1</td>\n",
       "      <td>1</td>\n",
       "      <td>0</td>\n",
       "      <td>10</td>\n",
       "      <td>5</td>\n",
       "      <td>0</td>\n",
       "      <td>1</td>\n",
       "      <td>5</td>\n",
       "      <td>53</td>\n",
       "      <td>...</td>\n",
       "      <td>0</td>\n",
       "      <td>0</td>\n",
       "      <td>0</td>\n",
       "      <td>0</td>\n",
       "      <td>0</td>\n",
       "      <td>0</td>\n",
       "      <td>4</td>\n",
       "      <td>118</td>\n",
       "      <td>0</td>\n",
       "      <td>0</td>\n",
       "    </tr>\n",
       "    <tr>\n",
       "      <th>Observation3</th>\n",
       "      <td>18</td>\n",
       "      <td>3</td>\n",
       "      <td>4</td>\n",
       "      <td>0</td>\n",
       "      <td>19</td>\n",
       "      <td>1</td>\n",
       "      <td>2</td>\n",
       "      <td>12</td>\n",
       "      <td>2</td>\n",
       "      <td>86</td>\n",
       "      <td>...</td>\n",
       "      <td>0</td>\n",
       "      <td>4</td>\n",
       "      <td>0</td>\n",
       "      <td>0</td>\n",
       "      <td>0</td>\n",
       "      <td>0</td>\n",
       "      <td>3</td>\n",
       "      <td>98</td>\n",
       "      <td>0</td>\n",
       "      <td>0</td>\n",
       "    </tr>\n",
       "    <tr>\n",
       "      <th>Observation4</th>\n",
       "      <td>24</td>\n",
       "      <td>1</td>\n",
       "      <td>2</td>\n",
       "      <td>0</td>\n",
       "      <td>13</td>\n",
       "      <td>0</td>\n",
       "      <td>1</td>\n",
       "      <td>18</td>\n",
       "      <td>1</td>\n",
       "      <td>78</td>\n",
       "      <td>...</td>\n",
       "      <td>0</td>\n",
       "      <td>2</td>\n",
       "      <td>0</td>\n",
       "      <td>0</td>\n",
       "      <td>0</td>\n",
       "      <td>0</td>\n",
       "      <td>1</td>\n",
       "      <td>80</td>\n",
       "      <td>0</td>\n",
       "      <td>0</td>\n",
       "    </tr>\n",
       "    <tr>\n",
       "      <th>Observation5</th>\n",
       "      <td>7</td>\n",
       "      <td>5</td>\n",
       "      <td>0</td>\n",
       "      <td>0</td>\n",
       "      <td>50</td>\n",
       "      <td>31</td>\n",
       "      <td>0</td>\n",
       "      <td>21</td>\n",
       "      <td>30</td>\n",
       "      <td>257</td>\n",
       "      <td>...</td>\n",
       "      <td>0</td>\n",
       "      <td>2</td>\n",
       "      <td>0</td>\n",
       "      <td>0</td>\n",
       "      <td>0</td>\n",
       "      <td>2</td>\n",
       "      <td>11</td>\n",
       "      <td>372</td>\n",
       "      <td>0</td>\n",
       "      <td>0</td>\n",
       "    </tr>\n",
       "    <tr>\n",
       "      <th>Observation6</th>\n",
       "      <td>4</td>\n",
       "      <td>4</td>\n",
       "      <td>5</td>\n",
       "      <td>0</td>\n",
       "      <td>57</td>\n",
       "      <td>26</td>\n",
       "      <td>0</td>\n",
       "      <td>19</td>\n",
       "      <td>32</td>\n",
       "      <td>254</td>\n",
       "      <td>...</td>\n",
       "      <td>0</td>\n",
       "      <td>3</td>\n",
       "      <td>0</td>\n",
       "      <td>0</td>\n",
       "      <td>0</td>\n",
       "      <td>0</td>\n",
       "      <td>20</td>\n",
       "      <td>461</td>\n",
       "      <td>0</td>\n",
       "      <td>0</td>\n",
       "    </tr>\n",
       "    <tr>\n",
       "      <th>Observation7</th>\n",
       "      <td>93</td>\n",
       "      <td>9</td>\n",
       "      <td>2</td>\n",
       "      <td>0</td>\n",
       "      <td>45</td>\n",
       "      <td>12</td>\n",
       "      <td>0</td>\n",
       "      <td>127</td>\n",
       "      <td>75</td>\n",
       "      <td>434</td>\n",
       "      <td>...</td>\n",
       "      <td>0</td>\n",
       "      <td>6</td>\n",
       "      <td>0</td>\n",
       "      <td>0</td>\n",
       "      <td>0</td>\n",
       "      <td>3</td>\n",
       "      <td>20</td>\n",
       "      <td>417</td>\n",
       "      <td>0</td>\n",
       "      <td>0</td>\n",
       "    </tr>\n",
       "    <tr>\n",
       "      <th>Observation8</th>\n",
       "      <td>77</td>\n",
       "      <td>4</td>\n",
       "      <td>6</td>\n",
       "      <td>0</td>\n",
       "      <td>58</td>\n",
       "      <td>9</td>\n",
       "      <td>0</td>\n",
       "      <td>98</td>\n",
       "      <td>42</td>\n",
       "      <td>454</td>\n",
       "      <td>...</td>\n",
       "      <td>0</td>\n",
       "      <td>7</td>\n",
       "      <td>0</td>\n",
       "      <td>0</td>\n",
       "      <td>0</td>\n",
       "      <td>1</td>\n",
       "      <td>15</td>\n",
       "      <td>525</td>\n",
       "      <td>0</td>\n",
       "      <td>0</td>\n",
       "    </tr>\n",
       "  </tbody>\n",
       "</table>\n",
       "<p>8 rows × 24690 columns</p>\n",
       "</div>"
      ],
      "text/plain": [
       "0            Feature00001 Feature00002 Feature00003 Feature00004 Feature00005  \\\n",
       "id                                                                              \n",
       "Observation1            2            4            0            0           19   \n",
       "Observation2            4            1            1            0           10   \n",
       "Observation3           18            3            4            0           19   \n",
       "Observation4           24            1            2            0           13   \n",
       "Observation5            7            5            0            0           50   \n",
       "Observation6            4            4            5            0           57   \n",
       "Observation7           93            9            2            0           45   \n",
       "Observation8           77            4            6            0           58   \n",
       "\n",
       "0            Feature00006 Feature00007 Feature00008 Feature00009 Feature00010  \\\n",
       "id                                                                              \n",
       "Observation1            7            0            4            7           86   \n",
       "Observation2            5            0            1            5           53   \n",
       "Observation3            1            2           12            2           86   \n",
       "Observation4            0            1           18            1           78   \n",
       "Observation5           31            0           21           30          257   \n",
       "Observation6           26            0           19           32          254   \n",
       "Observation7           12            0          127           75          434   \n",
       "Observation8            9            0           98           42          454   \n",
       "\n",
       "0             ... Feature24681 Feature24682 Feature24683 Feature24684  \\\n",
       "id            ...                                                       \n",
       "Observation1  ...            0            0            0            0   \n",
       "Observation2  ...            0            0            0            0   \n",
       "Observation3  ...            0            4            0            0   \n",
       "Observation4  ...            0            2            0            0   \n",
       "Observation5  ...            0            2            0            0   \n",
       "Observation6  ...            0            3            0            0   \n",
       "Observation7  ...            0            6            0            0   \n",
       "Observation8  ...            0            7            0            0   \n",
       "\n",
       "0            Feature24685 Feature24686 Feature24687 Feature24688 Feature24689  \\\n",
       "id                                                                              \n",
       "Observation1            0            0            4          134            0   \n",
       "Observation2            0            0            4          118            0   \n",
       "Observation3            0            0            3           98            0   \n",
       "Observation4            0            0            1           80            0   \n",
       "Observation5            0            2           11          372            0   \n",
       "Observation6            0            0           20          461            0   \n",
       "Observation7            0            3           20          417            0   \n",
       "Observation8            0            1           15          525            0   \n",
       "\n",
       "0            Feature24690  \n",
       "id                         \n",
       "Observation1            0  \n",
       "Observation2            0  \n",
       "Observation3            0  \n",
       "Observation4            0  \n",
       "Observation5            0  \n",
       "Observation6            0  \n",
       "Observation7            0  \n",
       "Observation8            0  \n",
       "\n",
       "[8 rows x 24690 columns]"
      ]
     },
     "execution_count": 144,
     "metadata": {},
     "output_type": "execute_result"
    }
   ],
   "source": [
    "dataset = pd.read_csv('https://raw.githubusercontent.com/Giffy/AI_Intro-to-Machine-Learning/master/Session-5/Datasets/dataset.csv.zip',index_col=0, header=None).T\n",
    "dataset = dataset.rename(columns={np.nan: 'id'})\n",
    "dataset = dataset.set_index('id')\n",
    "dataset"
   ]
  },
  {
   "cell_type": "markdown",
   "metadata": {
    "colab_type": "text",
    "id": "EsFc2AkhMPeX"
   },
   "source": [
    "# Principal Component Analysis"
   ]
  },
  {
   "cell_type": "code",
   "execution_count": 145,
   "metadata": {
    "colab": {},
    "colab_type": "code",
    "id": "ybj3C8mxeglf"
   },
   "outputs": [
    {
     "data": {
      "text/plain": [
       "array([[-0.79345707,  0.05277798, -1.1785113 , ..., -0.81673722,\n",
       "         0.        ,  0.        ],\n",
       "       [-0.73385466, -1.21389357, -0.70710678, ..., -0.90900762,\n",
       "         0.        ,  0.        ],\n",
       "       [-0.3166378 , -0.36944587,  0.70710678, ..., -1.02434562,\n",
       "         0.        ,  0.        ],\n",
       "       ...,\n",
       "       [-0.64445105,  0.47500183, -1.1785113 , ...,  0.55578499,\n",
       "         0.        ,  0.        ],\n",
       "       [-0.73385466,  0.05277798,  1.1785113 , ...,  1.0690391 ,\n",
       "         0.        ,  0.        ],\n",
       "       [ 1.91845254,  2.16389724, -0.23570226, ...,  0.8152955 ,\n",
       "         0.        ,  0.        ]])"
      ]
     },
     "execution_count": 145,
     "metadata": {},
     "output_type": "execute_result"
    }
   ],
   "source": [
    "\n",
    "#Standarize the data\n",
    "x = dataset.values                      \n",
    "dataset_std = StandardScaler().fit_transform(x)     \n",
    "\n",
    "dataset_std[0:7]\n"
   ]
  },
  {
   "cell_type": "code",
   "execution_count": 83,
   "metadata": {},
   "outputs": [
    {
     "name": "stdout",
     "output_type": "stream",
     "text": [
      "Explained variation per principal component: [0.73135743 0.13774563 0.05513513 0.0354783  0.01555362 0.0127137\n",
      " 0.01201619]\n",
      "95% Accumulated variation: 0.9597164927748475\n",
      "85% Accumulated variation: 0.8691030584541986\n"
     ]
    }
   ],
   "source": [
    "#Chooing PCA bumber of components\n",
    "pca = PCA(n_components=7).fit(dataset_std)\n",
    "print('Explained variation per principal component: {}'.format(pca.explained_variance_ratio_))\n",
    "\n",
    "\n",
    "#Consider the necessary number of components to explain at least a 95% of the variance.\n",
    "pc_explained1 = pca.explained_variance_ratio_.tolist()[0:4]\n",
    "print('95% Accumulated variation: {}'.format(np.sum(pc_explained1)))\n",
    "pca95 = PCA(n_components=4).fit(dataset_std)\n",
    "\n",
    "#Consider the necessary number of components to explain at least a 85% of the variance.\n",
    "pc_explained2 = pca.explained_variance_ratio_.tolist()[0:2]\n",
    "print('85% Accumulated variation: {}'.format(np.sum(pc_explained2)))\n",
    "pca85 = PCA(n_components=2).fit(dataset_std)"
   ]
  },
  {
   "cell_type": "code",
   "execution_count": 147,
   "metadata": {},
   "outputs": [
    {
     "data": {
      "image/png": "[encoded data removed]",
      "text/plain": [
       "<Figure size 432x288 with 1 Axes>"
      ]
     },
     "metadata": {},
     "output_type": "display_data"
    }
   ],
   "source": [
    "#PCA Visualization of the invidual components and their acumulative explained variance\n",
    "pc_explainedbase = pca.explained_variance_ratio_.tolist()\n",
    "\n",
    "with plt.style.context('seaborn-whitegrid'):\n",
    "  plt.figure(figsize=(6, 4))\n",
    "\n",
    "  plt.bar(range(len(pc_explainedbase)), pc_explainedbase, alpha=0.5, align='center',\n",
    "          label='individual explained variance')\n",
    "  plt.plot(range(len(pc_explainedbase)), np.cumsum(pc_explainedbase),\n",
    "            label='acumulative explained variance')\n",
    "\n",
    "  plt.ylabel('Explained variance ratio')\n",
    "  plt.xlabel('Principal components')\n",
    "  plt.legend(loc='best')\n",
    "  plt.tight_layout()"
   ]
  },
  {
   "cell_type": "code",
   "execution_count": 85,
   "metadata": {},
   "outputs": [
    {
     "name": "stdout",
     "output_type": "stream",
     "text": [
      "(8, 4)\n",
      "(8, 2)\n"
     ]
    },
    {
     "data": {
      "text/html": [
       "<div>\n",
       "<style scoped>\n",
       "    .dataframe tbody tr th:only-of-type {\n",
       "        vertical-align: middle;\n",
       "    }\n",
       "\n",
       "    .dataframe tbody tr th {\n",
       "        vertical-align: top;\n",
       "    }\n",
       "\n",
       "    .dataframe thead th {\n",
       "        text-align: right;\n",
       "    }\n",
       "</style>\n",
       "<table border=\"1\" class=\"dataframe\">\n",
       "  <thead>\n",
       "    <tr style=\"text-align: right;\">\n",
       "      <th></th>\n",
       "      <th>pc 1</th>\n",
       "      <th>pc 2</th>\n",
       "    </tr>\n",
       "  </thead>\n",
       "  <tbody>\n",
       "    <tr>\n",
       "      <th>0</th>\n",
       "      <td>-108.185893</td>\n",
       "      <td>1.665319</td>\n",
       "    </tr>\n",
       "    <tr>\n",
       "      <th>1</th>\n",
       "      <td>-118.173926</td>\n",
       "      <td>-2.646125</td>\n",
       "    </tr>\n",
       "    <tr>\n",
       "      <th>2</th>\n",
       "      <td>-109.181831</td>\n",
       "      <td>-30.819712</td>\n",
       "    </tr>\n",
       "    <tr>\n",
       "      <th>3</th>\n",
       "      <td>-105.873653</td>\n",
       "      <td>-32.613236</td>\n",
       "    </tr>\n",
       "    <tr>\n",
       "      <th>4</th>\n",
       "      <td>56.854967</td>\n",
       "      <td>72.057560</td>\n",
       "    </tr>\n",
       "  </tbody>\n",
       "</table>\n",
       "</div>"
      ],
      "text/plain": [
       "         pc 1       pc 2\n",
       "0 -108.185893   1.665319\n",
       "1 -118.173926  -2.646125\n",
       "2 -109.181831 -30.819712\n",
       "3 -105.873653 -32.613236\n",
       "4   56.854967  72.057560"
      ]
     },
     "execution_count": 85,
     "metadata": {},
     "output_type": "execute_result"
    }
   ],
   "source": [
    "#Reducing dimensions to 4 \n",
    "d4_pca = pca95.transform(dataset_std)\n",
    "print(d4_pca.shape)\n",
    "\n",
    "#Visualization 1\n",
    "df1_pca = pd.DataFrame(data = d4_pca\n",
    "             , columns = ['pc 1', 'pc 2','pc 3','pc 4'])\n",
    "\n",
    "df1_pca.head()\n",
    "\n",
    "\n",
    "\n",
    "#Reducing dimensions to 2\n",
    "d2_pca = pca85.transform(dataset_std)\n",
    "print(d2_pca.shape)\n",
    "\n",
    "#Visualization 1\n",
    "df2_pca = pd.DataFrame(data = d2_pca\n",
    "             , columns = ['pc 1', 'pc 2'])\n",
    "\n",
    "df2_pca.head()\n"
   ]
  },
  {
   "cell_type": "code",
   "execution_count": 193,
   "metadata": {},
   "outputs": [
    {
     "data": {
      "text/plain": [
       "Text(0.5, 0.98, '95% Variance')"
      ]
     },
     "execution_count": 193,
     "metadata": {},
     "output_type": "execute_result"
    },
    {
     "data": {
      "image/png": "[encoded data removed]",
      "text/plain": [
       "<Figure size 720x720 with 16 Axes>"
      ]
     },
     "metadata": {
      "needs_background": "light"
     },
     "output_type": "display_data"
    }
   ],
   "source": [
    "#Plotting components with 95% variance - 4 dimensions\n",
    "PCA_95 = sns.PairGrid(df1_pca)\n",
    "PCA_95.map(plt.scatter);\n",
    "plt.subplots_adjust(top=0.90)\n",
    "PCA_95.fig.suptitle('95% Variance')\n"
   ]
  },
  {
   "cell_type": "code",
   "execution_count": 194,
   "metadata": {},
   "outputs": [
    {
     "data": {
      "text/plain": [
       "<Figure size 432x288 with 0 Axes>"
      ]
     },
     "metadata": {},
     "output_type": "display_data"
    },
    {
     "data": {
      "image/png": "[encoded data removed]",
      "text/plain": [
       "<Figure size 504x360 with 1 Axes>"
      ]
     },
     "metadata": {},
     "output_type": "display_data"
    }
   ],
   "source": [
    "#Plotting components with 85% variance - 2 dimensions\n",
    "\n",
    "with plt.style.context('seaborn-whitegrid'):\n",
    "  plt.figure()\n",
    "  plt.figure(figsize=(7,5))\n",
    "  plt.xticks(fontsize=12)\n",
    "  plt.yticks(fontsize=14)\n",
    "  plt.xlabel('pc 1',fontsize=15)\n",
    "  plt.ylabel('pc 2',fontsize=15)\n",
    "  plt.title(\"Principal Component - 85% Variance\",fontsize=15)\n",
    "  plt.scatter(df2_pca.iloc[:,0],\n",
    "                  df2_pca.iloc[:,1], \n",
    "                  c = 'r', alpha=1, s = 50)\n",
    "  plt.tight_layout()\n",
    "  plt.show()"
   ]
  }
 ],
 "metadata": {
  "colab": {
   "collapsed_sections": [],
   "machine_shape": "hm",
   "name": "Challenge.ipynb",
   "provenance": []
  },
  "kernelspec": {
   "display_name": "Python 3",
   "language": "python",
   "name": "python3"
  }
 },
 "nbformat": 4,
 "nbformat_minor": 1
}
